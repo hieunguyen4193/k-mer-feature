{
 "cells": [
  {
   "cell_type": "code",
   "execution_count": 3,
   "id": "10507308",
   "metadata": {},
   "outputs": [
    {
     "name": "stderr",
     "output_type": "stream",
     "text": [
      "  0%|          | 0/86 [00:00<?, ?it/s]"
     ]
    },
    {
     "name": "stderr",
     "output_type": "stream",
     "text": [
      "100%|██████████| 86/86 [00:00<00:00, 358.74it/s]\n"
     ]
    }
   ],
   "source": [
    "import pandas as pd \n",
    "import pyfaidx\n",
    "import pysam\n",
    "import os \n",
    "from tqdm import tqdm\n",
    "from helper_functions import *\n",
    "\n",
    "refdir = \"/Volumes/HNSD01/storage/ref\"\n",
    "outdir = \"/Volumes/HNSD01/outdir\"\n",
    "\n",
    "# cancer_type = \"Colorectal\"\n",
    "cancer_type = \"Lung\"\n",
    "# cancer_type = \"Gastric\"\n",
    "\n",
    "gene_list_version = \"v0.1\"\n",
    "output_version = \"20250918\"\n",
    "\n",
    "k = 24\n",
    "additional_flanking_size = 100\n",
    "\n",
    "path_to_main_output = os.path.join(outdir, \"k-mer-feature\", \"data_analysis\", output_version)\n",
    "path_to_01_output = os.path.join(path_to_main_output, \n",
    "                                 \"01_ref_kmer_from_promoter_regions\", \n",
    "                                 cancer_type, \n",
    "                                 gene_list_version, \n",
    "                                 f\"{k}-mer\")\n",
    "os.system(f\"mkdir -p {path_to_01_output}\")\n",
    "\n",
    "path_to_hg19 = os.path.join(refdir, \"hg19.fa\")\n",
    "\n",
    "# always get list of all up and down regulated genes.\n",
    "path_to_bed_file = os.path.join(f\"./custom_tss_gene_beds/{cancer_type}/{gene_list_version}/biomart/all_genes/promoter_regions_up_1000_down_1000.bed\")\n",
    "beddf = pd.read_csv(path_to_bed_file, sep=\"\\t\", header=None)\n",
    "beddf.columns = [\"chrom\", \"start\", \"end\", \"name\"]\n",
    "\n",
    "for i in tqdm(range(beddf.shape[0])):\n",
    "    chrom = beddf.iloc[i][\"chrom\"]\n",
    "    start = beddf.iloc[i][\"start\"]\n",
    "    end = beddf.iloc[i][\"end\"]\n",
    "    name = beddf.iloc[i][\"name\"]\n",
    "    seq = get_refseq(path_to_hg19, chrom, start, end)\n",
    "    ref_kmer = pd.DataFrame.from_dict(kmer_occurence_count(seq, k), orient=\"index\").reset_index()\n",
    "    ref_kmer.columns = [\"kmer\", \"count\"]\n",
    "    ref_kmer = ref_kmer.sort_values(by=\"count\", ascending=False).reset_index(drop=True)\n",
    "    ref_kmer.to_csv(os.path.join(path_to_01_output, f\"{chrom}_{start}_{end}_{name}_{k}-mer.csv\"), index=False)"
   ]
  }
 ],
 "metadata": {
  "kernelspec": {
   "display_name": "pytorch",
   "language": "python",
   "name": "python3"
  },
  "language_info": {
   "codemirror_mode": {
    "name": "ipython",
    "version": 3
   },
   "file_extension": ".py",
   "mimetype": "text/x-python",
   "name": "python",
   "nbconvert_exporter": "python",
   "pygments_lexer": "ipython3",
   "version": "3.8.19"
  }
 },
 "nbformat": 4,
 "nbformat_minor": 5
}
